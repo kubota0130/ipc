{
 "cells": [
  {
   "attachments": {},
   "cell_type": "markdown",
   "metadata": {},
   "source": [
    "In this notebook, we will demonstrate how to plot memory functions using calculated IPC files. \n",
    "The previous script illustrates the total capacities of echo state network (ESN), but it does not show its dependency on delays. Here we explain first- and second-order memory functions using an ESN. "
   ]
  },
  {
   "cell_type": "code",
   "execution_count": 2,
   "metadata": {},
   "outputs": [],
   "source": [
    "import numpy as np\n",
    "import matplotlib.pyplot as plt\n",
    "import cupy as cp\n",
    "from utils.information_processing_capacity import single_input_ipc\n",
    "\n",
    "##### Parameters for esn #####\n",
    "N = 50      # Number of nodes\n",
    "Two = 10000 # Washout time\n",
    "T = int(1e6)# Time length except washout\n",
    "p = 0.5     # Sparsity for internal weight\n",
    "pin = 0.1   # Sparsity for input weight\n",
    "iota = 0.1  # Input intensity\n",
    "rho = 0.5  # Spectral radius\n",
    "#Weight\n",
    "seed = 0\n",
    "np.random.seed(seed)\n",
    "win = (2*np.random.rand(N)-1) * (np.random.rand(N)<pin)\n",
    "w = (2*np.random.rand(N,N)-1) * (np.random.rand(N,N)<p)\n",
    "eig,eigv = np.linalg.eig(w)\n",
    "w = w/np.max(np.abs(eig))"
   ]
  },
  {
   "attachments": {},
   "cell_type": "markdown",
   "metadata": {},
   "source": [
    "To depict both the first- and second-order memory functions, we apply an asymmetric input $\\zeta_t\\in[0,1]$ to the ESN, which holds both types of memories. "
   ]
  },
  {
   "cell_type": "code",
   "execution_count": 3,
   "metadata": {},
   "outputs": [
    {
     "name": "stdout",
     "output_type": "stream",
     "text": [
      "zeta (symmetric) [ 0.09762701  0.43037873  0.20552675 ...  0.61867435 -0.30313547\n",
      " -0.51697079] (1010000,)\n"
     ]
    }
   ],
   "source": [
    "##### Input #####\n",
    "np.random.seed(0)\n",
    "zeta_asym = np.random.rand(Two+T)\n",
    "zeta_sym = 2*zeta_asym-1\n",
    "print('zeta (symmetric)',zeta_sym,zeta_sym.shape)\n",
    "\n",
    "# Parameters for IPC\n",
    "poly = 'legendre'\n",
    "distr = 'uniform'\n",
    "degdelays = [[1,100],[2,30]]\n",
    "# Class for IPC\n",
    "ipc = single_input_ipc(zeta_sym,Two,degdelays,poly=poly,distr=distr,zerobased=True)\n",
    "\n",
    "gpu_id = 0\n",
    "cp.cuda.Device(gpu_id).use()\n",
    "\n",
    "# Directory\n",
    "pkldir = 'ipc/pkl'\n",
    "path = '%s/asym_%d_%5.3f_%5.3f_%5.3f_%5.3f'%(pkldir,N,p,pin,rho,iota)"
   ]
  },
  {
   "cell_type": "code",
   "execution_count": 6,
   "metadata": {},
   "outputs": [
    {
     "name": "stdout",
     "output_type": "stream",
     "text": [
      "{'N': 50, 'T': 1000000, 'Two': 10000, 'Nseed': 200, 'degdelays': [[1, 100], [2, 30]], 'zerobased': True, 'poly': 'legendre', 'distr': 'uniform', 'thresh': 'N', 'finfo': 2.220446049250313e-16, 'rank': 47}\n",
      "   degdelaysets      ipcs\n",
      "1      [[1, 1]]  0.999998\n",
      "2      [[1, 2]]  0.999998\n",
      "3      [[1, 3]]  0.999998\n",
      "4      [[1, 4]]  0.999998\n",
      "5      [[1, 5]]  0.999998\n",
      "6      [[1, 6]]  0.999998\n",
      "7      [[1, 7]]  0.999998\n",
      "8      [[1, 8]]  0.999997\n",
      "9      [[1, 9]]  0.999997\n",
      "10    [[1, 10]]  0.999993\n",
      "11    [[1, 11]]  0.999988\n",
      "12    [[1, 12]]  0.999958\n",
      "13    [[1, 13]]  0.999765\n",
      "14    [[1, 14]]  0.998323\n",
      "15    [[1, 15]]  0.991900\n",
      "16    [[1, 16]]  0.970086\n",
      "17    [[1, 17]]  0.903928\n",
      "18    [[1, 18]]  0.247113\n",
      "19    [[1, 19]]  0.017166\n",
      "20    [[1, 20]]  0.006050\n",
      "21    [[1, 21]]  0.001101\n",
      "22    [[1, 22]]  0.000263\n",
      "23    [[1, 23]]  0.000103\n",
      "deg 1 delay 100 Ctot(d) 17.135714654966076\n",
      "           degdelaysets      ipcs\n",
      "2              [[2, 1]]  0.974210\n",
      "4              [[2, 2]]  0.975979\n",
      "5      [[1, 1], [1, 2]]  0.941360\n",
      "7              [[2, 3]]  0.975005\n",
      "8      [[1, 1], [1, 3]]  0.934812\n",
      "..                  ...       ...\n",
      "103  [[1, 11], [1, 13]]  0.000116\n",
      "109   [[1, 3], [1, 14]]  0.000116\n",
      "112   [[1, 6], [1, 14]]  0.000101\n",
      "116  [[1, 10], [1, 14]]  0.000103\n",
      "117  [[1, 11], [1, 14]]  0.000114\n",
      "\n",
      "[88 rows x 2 columns]\n",
      "deg 2 delay 30 Ctot(d) 22.80877255750992\n",
      "degs [1 2] Ctot 39.94448721247599 rank 47\n",
      "--------------------------------------------------------------------------------\n",
      "\n",
      "\n",
      "\n"
     ]
    }
   ],
   "source": [
    "# ESN\n",
    "x = np.zeros((N,Two+T))\n",
    "for t in range(1,Two+T):\n",
    "    x[:,t] = np.tanh(rho*w.dot(x[:,t-1])+iota*win*zeta_asym[t-1])\n",
    "\n",
    "##### Compute IPC of ESN state #####\n",
    "ipc.svd(x)\n",
    "ipc.save_config(path)\n",
    "Ctot = 0\n",
    "for deg,delay in degdelays:\n",
    "    ipcs,surs = ipc.compute(deg,delay)\n",
    "    truncated = ipc.threshold(ipcs,surs,deg,delay,th_scale=1.2)\n",
    "    Ctot_deg = np.sum(truncated['ipcs'].values)\n",
    "    print('deg',deg,'delay',delay,'Ctot(d)',Ctot_deg)\n",
    "    Ctot += Ctot_deg\n",
    "print('degs',ipc.degs,'Ctot',Ctot,'rank',ipc.rank)\n",
    "print('--------------------------------------------------------------------------------\\n\\n\\n')"
   ]
  },
  {
   "attachments": {},
   "cell_type": "markdown",
   "metadata": {},
   "source": [
    "1. First-order memory function\n",
    "\n",
    "The first-order memory function $C(\\tau)$ describes an input delayed by $\\tau$ held in a reservoir and is equivalent to the first-order IPC of $\\zeta_{t-\\tau}$. \n",
    "The method `single_input_ipc.mf1d()` returns the first-order memory function `mf1d` $\\{C(\\tau)\\}$ with its corresponding delays `delays` $\\{\\tau\\}$. \n",
    "Note that, when `zerobased`==True (False), the range of `delays` is from $0$ ($1$) to the maximum delay $\\tau_{\\rm max}$ in `degdelays` = [[1,$\\tau_{\\rm max}$]] . "
   ]
  },
  {
   "cell_type": "code",
   "execution_count": 4,
   "metadata": {},
   "outputs": [
    {
     "data": {
      "image/png": "[encoded data removed]",
      "text/plain": [
       "<Figure size 432x288 with 1 Axes>"
      ]
     },
     "metadata": {
      "needs_background": "light"
     },
     "output_type": "display_data"
    }
   ],
   "source": [
    "delays,mf1d = ipc.mf1d(path,th_scale=1.2)\n",
    "\n",
    "plt.figure()\n",
    "plt.plot(delays,mf1d,'k-')\n",
    "plt.xlim(0,25)\n",
    "plt.xlabel(r'$\\tau$')\n",
    "plt.ylabel(r'$C(\\tau)$')\n",
    "plt.xticks([0,10,20])\n",
    "plt.yticks([0,0.5,1])\n",
    "plt.savefig('sample2_1d_memory_function.png',dpi=300,facecolor=\"w\",edgecolor=\"w\")"
   ]
  },
  {
   "attachments": {},
   "cell_type": "markdown",
   "metadata": {},
   "source": [
    "2. Second-order memory function\n",
    "\n",
    "The second-order memory function $C(\\tau_1,\\tau_2)$ represents the second-order IPC of $\\zeta_{t-\\tau_1}\\zeta_{t-\\tau_2}$ held in a reservoir. \n",
    "The method `single_input_ipc.mf2d()` returns the second-order memory function `mf2d` $\\{C(\\tau_1,\\tau_2)\\}$ with its corresponding delays `delays` $\\{\\tau\\}$. \n",
    "In the same manner as the first-order, when `zerobased`==True (False), the range of `delays` is from $0$ ($1$) to the maximum delay $\\tau_{\\rm max}$ in `degdelays` = [[2, $\\tau_{\\rm max}$]]. "
   ]
  },
  {
   "cell_type": "code",
   "execution_count": 7,
   "metadata": {},
   "outputs": [
    {
     "name": "stdout",
     "output_type": "stream",
     "text": [
      "(30,) (30, 30)\n"
     ]
    },
    {
     "name": "stderr",
     "output_type": "stream",
     "text": [
      "/tmp/ipykernel_2432305/4056123787.py:5: MatplotlibDeprecationWarning: shading='flat' when X and Y have the same dimensions as C is deprecated since 3.3.  Either specify the corners of the quadrilaterals with X and Y, or pass shading='auto', 'nearest' or 'gouraud', or set rcParams['pcolor.shading'].  This will become an error two minor releases later.\n",
      "  c = ax.pcolor(delays,delays,mf2d)\n"
     ]
    },
    {
     "data": {
      "image/png": "[encoded data removed]",
      "text/plain": [
       "<Figure size 432x360 with 2 Axes>"
      ]
     },
     "metadata": {
      "needs_background": "light"
     },
     "output_type": "display_data"
    }
   ],
   "source": [
    "delays,mf2d = ipc.mf2d(path,th_scale=1.2)\n",
    "print(delays.shape,mf2d.shape)\n",
    "# Plot ipc decomposition\n",
    "fig,ax = plt.subplots(figsize=(6,5))\n",
    "c = ax.pcolor(delays,delays,mf2d)\n",
    "fig.colorbar(c, ax=ax) \n",
    "ax.set_xlim(0,12)\n",
    "ax.set_ylim(0,12)\n",
    "ax.set_xlabel(r'$\\tau_1$')\n",
    "ax.set_ylabel(r'$\\tau_2$')\n",
    "ax.set_xticks([0.5,5.5,10.5])\n",
    "ax.set_xticklabels([0,5,10])\n",
    "ax.set_yticks([0.5,5.5,10.5])\n",
    "ax.set_yticklabels([0,5,10])\n",
    "ax.text(12,12.5,r'$C(\\tau_1,\\tau_2)$')\n",
    "plt.savefig('sample2_2d_memory_function.png',dpi=300,facecolor=\"w\",edgecolor=\"w\")\n",
    "\n"
   ]
  }
 ],
 "metadata": {
  "kernelspec": {
   "display_name": "ipc",
   "language": "python",
   "name": "python3"
  },
  "language_info": {
   "codemirror_mode": {
    "name": "ipython",
    "version": 3
   },
   "file_extension": ".py",
   "mimetype": "text/x-python",
   "name": "python",
   "nbconvert_exporter": "python",
   "pygments_lexer": "ipython3",
   "version": "3.8.10"
  },
  "orig_nbformat": 4,
  "vscode": {
   "interpreter": {
    "hash": "16c2b128cabfcd7d80fcbd9823ca27cf04f9eabd1c9a16c30b2af6ac6f7497e2"
   }
  }
 },
 "nbformat": 4,
 "nbformat_minor": 2
}
